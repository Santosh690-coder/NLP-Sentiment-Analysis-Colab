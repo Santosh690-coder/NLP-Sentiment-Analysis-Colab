{
  "nbformat": 4,
  "nbformat_minor": 0,
  "metadata": {
    "colab": {
      "provenance": []
    },
    "kernelspec": {
      "name": "python3",
      "display_name": "Python 3"
    },
    "language_info": {
      "name": "python"
    }
    
  },
  "cells": [
    {
      "cell_type": "code",
      "source": [
        "import tensorflow_datasets as tfds\n",
        "import tensorflow as tf"
      ],
      "metadata": {
        "id": "4Lln1cjLCSPS"
      },
      "execution_count": null,
      "outputs": []
    },
    {
      "cell_type": "code",
      "source": [
        "# Load the IMDb reviews dataset\n",
        "(train_data, test_data), info = tfds.load(\n",
        "    name=\"imdb_reviews\",\n",
        "    split=(tfds.Split.TRAIN, tfds.Split.TEST),\n",
        "    as_supervised=True\n",
        ")"
      ],
      "metadata": {
        "colab": {
          "base_uri": "https://localhost:8080/",
          "height": 347,
          "referenced_widgets": [
            "8b40074664a240ecb4c32903652e401e",
            "30badb2bd53d43c29dae99fb4919626b",
            "e9f14e26db5948daa59ff509190e3bec",
            "103947241bec4cb2b76e44865c15d6f8",
            "18ed9b5ca5564678a6a8fdee3e3c811a",
            "012632a992b144dc9d0d3771fc9fafdd",
            "e69d393bf2c84414a13449f213559dd1",
            "4c0aa3151420468494073635a15564e8",
            "d4ac329529de4603a2e7960094b9a3c2",
            "37ad6bb42b7e4d8d81bce0a6f836b7a4",
            "718516138cb943748ae895c960c3a87b",
            "71542c8b9c214194a33cff231c2facc0",
            "4ea18f3e1f7d482ca56234f443f9c0ea",
            "f338d1e91b9a45639d6892425efe0c96",
            "7f9ed54196d447ec88ed5cc39209e1ae",
            "e3b4f70bb9e8481fb885a891ca435b37",
            "5c80c8f537e64cdc941b88e562844e22",
            "222c96f1fe1c4e208c0bec29ff67e05f",
            "215dcc819efc40d09d7bbf8aa074d0c4",
            "7be9bed8e35c4914a3f671cdb15ee841",
            "2b2031dc395e41edbbfd55b3fc0eea9f",
            "a41c9e1b3f094b78a1381f8530611b97",
            "052a7cb9a3864f3b94fbecdd2e01b395",
            "df3f1a83a8814265a2ca682a0a13ccea",
            "70c50ad000e241cab1e20612a8f3d181",
            "25118ab15b874efd85a75f85d50c376e",
            "b416604bdf8746a495cc15bc803e1d05",
            "8116f7cc8ef040c08b91a20e4f849cc2",
            "b47cb0ae3c7841f498b5509bbb2643f7",
            "b7c644e80e18404f9fe65b859e3c3757",
            "91aace1697374261b0bdc1d7b5937003",
            "55c2968397db4918a789f0aeea76c737",
            "ce5f07b3ff174f7fa11a506c3e134706",
            "7397b561fe3a4c078292770fb8418385",
            "2ae633dcd9ab4479a19485ec9f2bec8a",
            "9a48fbfb18da49e4b817388446bfe398",
            "a292c87f6afe495290d89fbfd5d9bd79",
            "3963018ef6f640c4866a5876ea37c408",
            "7f48edfeb8fb48708bbd51066fe2d991",
            "faa013fe99cd4412a3731692a10ba4d3",
            "579f719375c84fbfaadd1fc5d8b105b8",
            "503dd278ed864588a5e2493f4728c27b",
            "d381e02f6f9b4f38bfabd8051095411c",
            "6711a65831b942e7b39bf3141b007b8b",
            "143143a7c3024367b4b0e4e47be85252",
            "45ec5d03de7443d08f8ee42b24bfd929",
            "3aca5aeceb7e4f86a7292d49f7790455",
            "939b815b5cfc4be69713192427329ace",
            "a923419eac78409f83ae1802a825688c",
            "e9987b185a1340e6b93aa65a380115e8",
            "b5af5c9dbc934ffa883ae1114ae615cb",
            "1712a65db35d48438949c8c32dad331f",
            "1c23d3fc2eb549148c6d31fd2bd93f9d",
            "804c20597cf642aa9d36252d374ff8f0",
            "a9387f5a5bcf499bbca5c23b10093919",
            "cfd92550a5c447b3bded37d07e01a372",
            "271ddef0a5f442699cf3da652621fd73",
            "dfeb28c259ea4fd0927360b99ca4c618",
            "e0a7ba20ace44799aac319d0d8a17a7d",
            "37278cb81a6047fbbead73348a955c06",
            "f79b68e071cd4efc8be30b5d6632b54d",
            "6658b0f3cb834cc89465c475e0c0f9b2",
            "aaeb68917e894c70ba4dd52caafa3cc1",
            "048adec23b84411d939f801dfae05f7d",
            "d0e337cc97bb419db7a474aad2c035d0",
            "f156ae7e3c7b49a49bfca88f5299e5cd",
            "8728c5d68d1247609e914af4a02d7a1d",
            "a91509676a4c4375989d29a61a68dc64",
            "b3394b05e9f9452c9b470f74a49a3c0f",
            "70b4b5c288d34c608bddad205d3c8632",
            "f34aa354f7cc4fb5a685fdd58246aabf",
            "2f5116e0542547c4be55fbd0c9e9b0cb",
            "ae109584472e4d1bb3e18ee5ef4f6b55",
            "b343cbd284474c98b957d8033d78ecde",
            "f390cb59d7444360b06507a5e49dbb03",
            "1294e7e6612d445d91d7ec633bf01c49",
            "42b2f6731b0f415eb5693be1fbbedfb7",
            "321e876a2ed54a629d869bf6e4580517",
            "08bfbda5d53c44a2930510eda97515f6",
            "90abc6fd32e144089777431056f01dfc",
            "84e90f70e10944378a9b7f411edc11f8",
            "236604f0323f4a19b5c40cfbc5163268",
            "22f9551dc91f4c77bb9038481b288c61",
            "c7d90578571d4d0ba5a7b5ff43a6025a",
            "5618b5740002488bbcc141535a8a920b",
            "a40d04f6d2654c6ab664b9954adbf148",
            "df064582ceaf497b982aa34e1eda81a2",
            "6651c318d2d2490b9ba591e12b1a87ce",
            "1eb60256053049e78e99f3069db11b99",
            "c5cc29ea17364f668efd115dfc99a804",
            "c9539c2de0e442bf9e833bac6558373d",
            "9fe0dc0ef0ef4e49a4ab0c3a152b2e39",
            "db9b14b21dae4d2f871edaf331714d5c",
            "ce304aa02cde41e2857fd8f75d8e7f53",
            "5f3f41563d2d49f3b81ed1ecb3d47be4",
            "98a576f3049947fc9122efa2888cea44",
            "85693e64627046458319826b413401da",
            "be4c59b046a146119a7136a7b89c070d",
            "66808e97b9834cfabe4575c0d357829a"
          ]
        },
        "id": "15u8OtlhCWzv",
        "outputId": "01f84241-ad88-4277-97ce-a2c8db7b4189"
      },
      "execution_count": null,
      "outputs": [
        {
          "output_type": "stream",
          "name": "stderr",
          "text": [
            "WARNING:absl:Variant folder /root/tensorflow_datasets/imdb_reviews/plain_text/1.0.0 has no dataset_info.json\n"
          ]
        },
        {
          "output_type": "stream",
          "name": "stdout",
          "text": [
            "Downloading and preparing dataset Unknown size (download: Unknown size, generated: Unknown size, total: Unknown size) to /root/tensorflow_datasets/imdb_reviews/plain_text/1.0.0...\n"
          ]
        },
        {
          "output_type": "display_data",
          "data": {
            "text/plain": [
              "Dl Completed...: 0 url [00:00, ? url/s]"
            ],
            "application/vnd.jupyter.widget-view+json": {
              "version_major": 2,
              "version_minor": 0,
              "model_id": "8b40074664a240ecb4c32903652e401e"
            }
          },
          "metadata": {}
        },
        {
          "output_type": "display_data",
          "data": {
            "text/plain": [
              "Dl Size...: 0 MiB [00:00, ? MiB/s]"
            ],
            "application/vnd.jupyter.widget-view+json": {
              "version_major": 2,
              "version_minor": 0,
              "model_id": "71542c8b9c214194a33cff231c2facc0"
            }
          },
          "metadata": {}
        },
        {
          "output_type": "display_data",
          "data": {
            "text/plain": [
              "Generating splits...:   0%|          | 0/3 [00:00<?, ? splits/s]"
            ],
            "application/vnd.jupyter.widget-view+json": {
              "version_major": 2,
              "version_minor": 0,
              "model_id": "052a7cb9a3864f3b94fbecdd2e01b395"
            }
          },
          "metadata": {}
        },
        {
          "output_type": "display_data",
          "data": {
            "text/plain": [
              "Generating train examples...: 0 examples [00:00, ? examples/s]"
            ],
            "application/vnd.jupyter.widget-view+json": {
              "version_major": 2,
              "version_minor": 0,
              "model_id": "7397b561fe3a4c078292770fb8418385"
            }
          },
          "metadata": {}
        },
        {
          "output_type": "display_data",
          "data": {
            "text/plain": [
              "Shuffling /root/tensorflow_datasets/imdb_reviews/plain_text/incomplete.E7X93H_1.0.0/imdb_reviews-train.tfrecor…"
            ],
            "application/vnd.jupyter.widget-view+json": {
              "version_major": 2,
              "version_minor": 0,
              "model_id": "143143a7c3024367b4b0e4e47be85252"
            }
          },
          "metadata": {}
        },
        {
          "output_type": "display_data",
          "data": {
            "text/plain": [
              "Generating test examples...: 0 examples [00:00, ? examples/s]"
            ],
            "application/vnd.jupyter.widget-view+json": {
              "version_major": 2,
              "version_minor": 0,
              "model_id": "cfd92550a5c447b3bded37d07e01a372"
            }
          },
          "metadata": {}
        },
        {
          "output_type": "display_data",
          "data": {
            "text/plain": [
              "Shuffling /root/tensorflow_datasets/imdb_reviews/plain_text/incomplete.E7X93H_1.0.0/imdb_reviews-test.tfrecord…"
            ],
            "application/vnd.jupyter.widget-view+json": {
              "version_major": 2,
              "version_minor": 0,
              "model_id": "8728c5d68d1247609e914af4a02d7a1d"
            }
          },
          "metadata": {}
        },
        {
          "output_type": "display_data",
          "data": {
            "text/plain": [
              "Generating unsupervised examples...: 0 examples [00:00, ? examples/s]"
            ],
            "application/vnd.jupyter.widget-view+json": {
              "version_major": 2,
              "version_minor": 0,
              "model_id": "321e876a2ed54a629d869bf6e4580517"
            }
          },
          "metadata": {}
        },
        {
          "output_type": "display_data",
          "data": {
            "text/plain": [
              "Shuffling /root/tensorflow_datasets/imdb_reviews/plain_text/incomplete.E7X93H_1.0.0/imdb_reviews-unsupervised.…"
            ],
            "application/vnd.jupyter.widget-view+json": {
              "version_major": 2,
              "version_minor": 0,
              "model_id": "1eb60256053049e78e99f3069db11b99"
            }
          },
          "metadata": {}
        },
        {
          "output_type": "stream",
          "name": "stdout",
          "text": [
            "Dataset imdb_reviews downloaded and prepared to /root/tensorflow_datasets/imdb_reviews/plain_text/1.0.0. Subsequent calls will reuse this data.\n"
          ]
        },
        {
          "output_type": "error",
          "ename": "ValueError",
          "evalue": "too many values to unpack (expected 2)",
          "traceback": [
            "\u001b[0;31m---------------------------------------------------------------------------\u001b[0m",
            "\u001b[0;31mValueError\u001b[0m                                Traceback (most recent call last)",
            "\u001b[0;32m<ipython-input-2-9cafb5221870>\u001b[0m in \u001b[0;36m<cell line: 0>\u001b[0;34m()\u001b[0m\n\u001b[1;32m      1\u001b[0m \u001b[0;31m# Load the IMDb reviews dataset\u001b[0m\u001b[0;34m\u001b[0m\u001b[0;34m\u001b[0m\u001b[0m\n\u001b[0;32m----> 2\u001b[0;31m (train_data, test_data), info = tfds.load(\n\u001b[0m\u001b[1;32m      3\u001b[0m     \u001b[0mname\u001b[0m\u001b[0;34m=\u001b[0m\u001b[0;34m\"imdb_reviews\"\u001b[0m\u001b[0;34m,\u001b[0m\u001b[0;34m\u001b[0m\u001b[0;34m\u001b[0m\u001b[0m\n\u001b[1;32m      4\u001b[0m     \u001b[0msplit\u001b[0m\u001b[0;34m=\u001b[0m\u001b[0;34m(\u001b[0m\u001b[0mtfds\u001b[0m\u001b[0;34m.\u001b[0m\u001b[0mSplit\u001b[0m\u001b[0;34m.\u001b[0m\u001b[0mTRAIN\u001b[0m\u001b[0;34m,\u001b[0m \u001b[0mtfds\u001b[0m\u001b[0;34m.\u001b[0m\u001b[0mSplit\u001b[0m\u001b[0;34m.\u001b[0m\u001b[0mTEST\u001b[0m\u001b[0;34m)\u001b[0m\u001b[0;34m,\u001b[0m\u001b[0;34m\u001b[0m\u001b[0;34m\u001b[0m\u001b[0m\n\u001b[1;32m      5\u001b[0m     \u001b[0mas_supervised\u001b[0m\u001b[0;34m=\u001b[0m\u001b[0;32mTrue\u001b[0m\u001b[0;34m\u001b[0m\u001b[0;34m\u001b[0m\u001b[0m\n",
            "\u001b[0;31mValueError\u001b[0m: too many values to unpack (expected 2)"
          ]
        }
      ]
    },
    {
      "cell_type": "code",
      "source": [
        "\n",
        "\n",
        "# Load the IMDb reviews dataset\n",
        "datasets, info = tfds.load(\n",
        "    name=\"imdb_reviews\",\n",
        "    split=(tfds.Split.TRAIN, tfds.Split.TEST),\n",
        "    as_supervised=True\n",
        ")\n",
        "\n",
        "# Access the train and test splits from the 'datasets' dictionary\n",
        "train_data = datasets[tfds.Split.TRAIN]\n",
        "test_data = datasets[tfds.Split.TEST]"
      ],
      "metadata": {
        "colab": {
          "base_uri": "https://localhost:8080/",
          "height": 193
        },
        "id": "dmfKLACdDhyg",
        "outputId": "529e3000-4e07-4cfd-fdf8-89383eb44441"
      },
      "execution_count": null,
      "outputs": [
        {
          "output_type": "error",
          "ename": "TypeError",
          "evalue": "'_PrefetchDataset' object is not subscriptable",
          "traceback": [
            "\u001b[0;31m---------------------------------------------------------------------------\u001b[0m",
            "\u001b[0;31mTypeError\u001b[0m                                 Traceback (most recent call last)",
            "\u001b[0;32m<ipython-input-3-f4603b02d260>\u001b[0m in \u001b[0;36m<cell line: 0>\u001b[0;34m()\u001b[0m\n\u001b[1;32m      7\u001b[0m \u001b[0;34m\u001b[0m\u001b[0m\n\u001b[1;32m      8\u001b[0m \u001b[0;31m# Access the train and test splits from the 'datasets' dictionary\u001b[0m\u001b[0;34m\u001b[0m\u001b[0;34m\u001b[0m\u001b[0m\n\u001b[0;32m----> 9\u001b[0;31m \u001b[0mtrain_data\u001b[0m \u001b[0;34m=\u001b[0m \u001b[0mdatasets\u001b[0m\u001b[0;34m[\u001b[0m\u001b[0mtfds\u001b[0m\u001b[0;34m.\u001b[0m\u001b[0mSplit\u001b[0m\u001b[0;34m.\u001b[0m\u001b[0mTRAIN\u001b[0m\u001b[0;34m]\u001b[0m\u001b[0;34m\u001b[0m\u001b[0;34m\u001b[0m\u001b[0m\n\u001b[0m\u001b[1;32m     10\u001b[0m \u001b[0mtest_data\u001b[0m \u001b[0;34m=\u001b[0m \u001b[0mdatasets\u001b[0m\u001b[0;34m[\u001b[0m\u001b[0mtfds\u001b[0m\u001b[0;34m.\u001b[0m\u001b[0mSplit\u001b[0m\u001b[0;34m.\u001b[0m\u001b[0mTEST\u001b[0m\u001b[0;34m]\u001b[0m\u001b[0;34m\u001b[0m\u001b[0;34m\u001b[0m\u001b[0m\n",
            "\u001b[0;31mTypeError\u001b[0m: '_PrefetchDataset' object is not subscriptable"
          ]
        }
      ]
    },
    {
      "cell_type": "code",
      "source": [
        "# Load the IMDb reviews dataset\n",
        "\n",
        "(train_data, test_data) = tfds.load(\n",
        "    name=\"imdb_reviews\",\n",
        "    split=(tfds.Split.TRAIN, tfds.Split.TEST),\n",
        "    as_supervised=True\n",
        ")"
      ],
      "metadata": {
        "id": "A5wNVm0sDvfk"
      },
      "execution_count": null,
      "outputs": []
    },
    {
      "cell_type": "code",
      "source": [
        "# Show a couple of examples\n",
        "print(\"First training example:\")\n",
        "for text, label in train_data.take(1):\n",
        "    print(f\"Review: {text.numpy().decode('utf-8')[:150]}...\") # Decode byte string\n",
        "    print(f\"Label: {'Positive' if label.numpy() == 1 else 'Negative'}\")"
      ],
      "metadata": {
        "colab": {
          "base_uri": "https://localhost:8080/"
        },
        "id": "lr8ef3QhD5Q1",
        "outputId": "05262ff4-b9e6-45c0-8c64-54195e3e0283"
      },
      "execution_count": null,
      "outputs": [
        {
          "output_type": "stream",
          "name": "stdout",
          "text": [
            "First training example:\n",
            "Review: This was an absolutely terrible movie. Don't be lured in by Christopher Walken or Michael Ironside. Both are great actors, but this must simply be the...\n",
            "Label: Negative\n"
          ]
        }
      ]
    },
    {
      "cell_type": "code",
      "source": [
        "# Define vocabulary size and sequence length\n",
        "VOCAB_SIZE = 10000\n",
        "SEQUENCE_LENGTH = 256\n"
      ],
      "metadata": {
        "id": "Kn5-iv6IEZGL"
      },
      "execution_count": null,
      "outputs": []
    },
    {
      "cell_type": "code",
      "source": [
        "# Create a TextVectorization layer\n",
        "vectorize_layer = tf.keras.layers.TextVectorization(\n",
        "    max_tokens=VOCAB_SIZE,\n",
        "    output_mode='int',\n",
        "    output_sequence_length=SEQUENCE_LENGTH,\n",
        "    standardize='lower_and_strip_punctuation'\n",
        ")"
      ],
      "metadata": {
        "id": "TO79XRb0EaaU"
      },
      "execution_count": null,
      "outputs": []
    },
    {
      "cell_type": "code",
      "source": [
        "# Adapt the layer to the training text to build its vocabulary\n",
        "train_text_ds = train_data.map(lambda text, label: text)\n",
        "vectorize_layer.adapt(train_text_ds)"
      ],
      "metadata": {
        "id": "61ea2qxYEiWI"
      },
      "execution_count": null,
      "outputs": []
    },
    {
      "cell_type": "code",
      "source": [
        "# Function to apply vectorization to our datasets\n",
        "def vectorize_text(text, label):\n",
        "    text = vectorize_layer(text)\n",
        "    return text, label"
      ],
      "metadata": {
        "id": "hhAv13DjMBAl"
      },
      "execution_count": null,
      "outputs": []
    },
    {
      "cell_type": "code",
      "source": [
        "# Apply vectorization and prepare datasets for training\n",
        "BATCH_SIZE = 32\n",
        "train_dataset = train_data.map(vectorize_text).batch(BATCH_SIZE).cache().prefetch(tf.data.AUTOTUNE)\n",
        "test_dataset = test_data.map(vectorize_text).batch(BATCH_SIZE).cache().prefetch(tf.data.AUTOTUNE)"
      ],
      "metadata": {
        "id": "jGs6PBf9MCQK"
      },
      "execution_count": null,
      "outputs": []
    },
    {
      "cell_type": "code",
      "source": [
        "# Verify one batch\n",
        "print(\"\\nFirst vectorized batch shapes:\")\n",
        "for text_batch, label_batch in train_dataset.take(1):\n",
        "    print(f\"Text batch shape: {text_batch.shape}\")\n",
        "    print(f\"Label batch shape: {label_batch.shape}\")"
      ],
      "metadata": {
        "colab": {
          "base_uri": "https://localhost:8080/"
        },
        "id": "TTWAgvTGMGQ0",
        "outputId": "c4287a00-aaea-41c1-b849-7afe4f6904b2"
      },
      "execution_count": null,
      "outputs": [
        {
          "output_type": "stream",
          "name": "stdout",
          "text": [
            "\n",
            "First vectorized batch shapes:\n",
            "Text batch shape: (32, 256)\n",
            "Label batch shape: (32,)\n"
          ]
        }
      ]
    },
    {
      "cell_type": "code",
      "source": [
        "from tensorflow.keras import layers, models\n",
        "import matplotlib.pyplot as plt"
      ],
      "metadata": {
        "id": "L4S74J3ZNn5J"
      },
      "execution_count": null,
      "outputs": []
    },
    {
      "cell_type": "code",
      "source": [
        "# Define the model architecture\n",
        "model = models.Sequential([\n",
        "\n",
        "    layers.Embedding(input_dim=VOCAB_SIZE, output_dim=16),\n",
        "\n",
        "    layers.GlobalAveragePooling1D(),\n",
        "\n",
        "    layers.Dense(1, activation='sigmoid')\n",
        "])"
      ],
      "metadata": {
        "id": "CgdXsNnsNtQx"
      },
      "execution_count": null,
      "outputs": []
    },
    {
      "cell_type": "code",
      "source": [
        "# Compile the model\n",
        "model.compile(\n",
        "    optimizer='adam',\n",
        "    loss=tf.keras.losses.BinaryCrossentropy(),\n",
        "    metrics=['accuracy']\n",
        ")"
      ],
      "metadata": {
        "id": "Om9pjl6INyV4"
      },
      "execution_count": null,
      "outputs": []
    },
    {
      "cell_type": "code",
      "source": [
        "# Display model summary (now with correct shapes and parameters)\n",
        "print(\"Model Summary:\")\n",
        "model.summary()"
      ],
      "metadata": {
        "colab": {
          "base_uri": "https://localhost:8080/",
          "height": 258
        },
        "id": "6sib4UQiN1dN",
        "outputId": "621b0344-8496-4a44-a906-b15ddb295082"
      },
      "execution_count": null,
      "outputs": [
        {
          "output_type": "stream",
          "name": "stdout",
          "text": [
            "Model Summary:\n"
          ]
        },
        {
          "output_type": "display_data",
          "data": {
            "text/plain": [
              "\u001b[1mModel: \"sequential\"\u001b[0m\n"
            ],
            "text/html": [
              "<pre style=\"white-space:pre;overflow-x:auto;line-height:normal;font-family:Menlo,'DejaVu Sans Mono',consolas,'Courier New',monospace\"><span style=\"font-weight: bold\">Model: \"sequential\"</span>\n",
              "</pre>\n"
            ]
          },
          "metadata": {}
        },
        {
          "output_type": "display_data",
          "data": {
            "text/plain": [
              "┏━━━━━━━━━━━━━━━━━━━━━━━━━━━━━━━━━┳━━━━━━━━━━━━━━━━━━━━━━━━┳━━━━━━━━━━━━━━━┓\n",
              "┃\u001b[1m \u001b[0m\u001b[1mLayer (type)                   \u001b[0m\u001b[1m \u001b[0m┃\u001b[1m \u001b[0m\u001b[1mOutput Shape          \u001b[0m\u001b[1m \u001b[0m┃\u001b[1m \u001b[0m\u001b[1m      Param #\u001b[0m\u001b[1m \u001b[0m┃\n",
              "┡━━━━━━━━━━━━━━━━━━━━━━━━━━━━━━━━━╇━━━━━━━━━━━━━━━━━━━━━━━━╇━━━━━━━━━━━━━━━┩\n",
              "│ embedding (\u001b[38;5;33mEmbedding\u001b[0m)           │ ?                      │   \u001b[38;5;34m0\u001b[0m (unbuilt) │\n",
              "├─────────────────────────────────┼────────────────────────┼───────────────┤\n",
              "│ global_average_pooling1d        │ ?                      │             \u001b[38;5;34m0\u001b[0m │\n",
              "│ (\u001b[38;5;33mGlobalAveragePooling1D\u001b[0m)        │                        │               │\n",
              "├─────────────────────────────────┼────────────────────────┼───────────────┤\n",
              "│ dense (\u001b[38;5;33mDense\u001b[0m)                   │ ?                      │   \u001b[38;5;34m0\u001b[0m (unbuilt) │\n",
              "└─────────────────────────────────┴────────────────────────┴───────────────┘\n"
            ],
            "text/html": [
              "<pre style=\"white-space:pre;overflow-x:auto;line-height:normal;font-family:Menlo,'DejaVu Sans Mono',consolas,'Courier New',monospace\">┏━━━━━━━━━━━━━━━━━━━━━━━━━━━━━━━━━┳━━━━━━━━━━━━━━━━━━━━━━━━┳━━━━━━━━━━━━━━━┓\n",
              "┃<span style=\"font-weight: bold\"> Layer (type)                    </span>┃<span style=\"font-weight: bold\"> Output Shape           </span>┃<span style=\"font-weight: bold\">       Param # </span>┃\n",
              "┡━━━━━━━━━━━━━━━━━━━━━━━━━━━━━━━━━╇━━━━━━━━━━━━━━━━━━━━━━━━╇━━━━━━━━━━━━━━━┩\n",
              "│ embedding (<span style=\"color: #0087ff; text-decoration-color: #0087ff\">Embedding</span>)           │ ?                      │   <span style=\"color: #00af00; text-decoration-color: #00af00\">0</span> (unbuilt) │\n",
              "├─────────────────────────────────┼────────────────────────┼───────────────┤\n",
              "│ global_average_pooling1d        │ ?                      │             <span style=\"color: #00af00; text-decoration-color: #00af00\">0</span> │\n",
              "│ (<span style=\"color: #0087ff; text-decoration-color: #0087ff\">GlobalAveragePooling1D</span>)        │                        │               │\n",
              "├─────────────────────────────────┼────────────────────────┼───────────────┤\n",
              "│ dense (<span style=\"color: #0087ff; text-decoration-color: #0087ff\">Dense</span>)                   │ ?                      │   <span style=\"color: #00af00; text-decoration-color: #00af00\">0</span> (unbuilt) │\n",
              "└─────────────────────────────────┴────────────────────────┴───────────────┘\n",
              "</pre>\n"
            ]
          },
          "metadata": {}
        },
        {
          "output_type": "display_data",
          "data": {
            "text/plain": [
              "\u001b[1m Total params: \u001b[0m\u001b[38;5;34m0\u001b[0m (0.00 B)\n"
            ],
            "text/html": [
              "<pre style=\"white-space:pre;overflow-x:auto;line-height:normal;font-family:Menlo,'DejaVu Sans Mono',consolas,'Courier New',monospace\"><span style=\"font-weight: bold\"> Total params: </span><span style=\"color: #00af00; text-decoration-color: #00af00\">0</span> (0.00 B)\n",
              "</pre>\n"
            ]
          },
          "metadata": {}
        },
        {
          "output_type": "display_data",
          "data": {
            "text/plain": [
              "\u001b[1m Trainable params: \u001b[0m\u001b[38;5;34m0\u001b[0m (0.00 B)\n"
            ],
            "text/html": [
              "<pre style=\"white-space:pre;overflow-x:auto;line-height:normal;font-family:Menlo,'DejaVu Sans Mono',consolas,'Courier New',monospace\"><span style=\"font-weight: bold\"> Trainable params: </span><span style=\"color: #00af00; text-decoration-color: #00af00\">0</span> (0.00 B)\n",
              "</pre>\n"
            ]
          },
          "metadata": {}
        },
        {
          "output_type": "display_data",
          "data": {
            "text/plain": [
              "\u001b[1m Non-trainable params: \u001b[0m\u001b[38;5;34m0\u001b[0m (0.00 B)\n"
            ],
            "text/html": [
              "<pre style=\"white-space:pre;overflow-x:auto;line-height:normal;font-family:Menlo,'DejaVu Sans Mono',consolas,'Courier New',monospace\"><span style=\"font-weight: bold\"> Non-trainable params: </span><span style=\"color: #00af00; text-decoration-color: #00af00\">0</span> (0.00 B)\n",
              "</pre>\n"
            ]
          },
          "metadata": {}
        }
      ]
    },
    {
      "cell_type": "code",
      "source": [
        "# Train the model\n",
        "print(\"\\nTraining the model...\")\n",
        "history = model.fit(\n",
        "    train_dataset,\n",
        "    epochs=10,\n",
        "    validation_data=test_dataset\n",
        ")"
      ],
      "metadata": {
        "colab": {
          "base_uri": "https://localhost:8080/"
        },
        "id": "t_aHCzv6N-Sb",
        "outputId": "4c72effb-b7fb-4bf7-9905-8514c55d6dbb"
      },
      "execution_count": null,
      "outputs": [
        {
          "output_type": "stream",
          "name": "stdout",
          "text": [
            "\n",
            "Training the model...\n",
            "Epoch 1/10\n",
            "\u001b[1m782/782\u001b[0m \u001b[32m━━━━━━━━━━━━━━━━━━━━\u001b[0m\u001b[37m\u001b[0m \u001b[1m18s\u001b[0m 22ms/step - accuracy: 0.6045 - loss: 0.6712 - val_accuracy: 0.7426 - val_loss: 0.5577\n",
            "Epoch 2/10\n",
            "\u001b[1m782/782\u001b[0m \u001b[32m━━━━━━━━━━━━━━━━━━━━\u001b[0m\u001b[37m\u001b[0m \u001b[1m7s\u001b[0m 5ms/step - accuracy: 0.7965 - loss: 0.5059 - val_accuracy: 0.8156 - val_loss: 0.4366\n",
            "Epoch 3/10\n",
            "\u001b[1m782/782\u001b[0m \u001b[32m━━━━━━━━━━━━━━━━━━━━\u001b[0m\u001b[37m\u001b[0m \u001b[1m5s\u001b[0m 7ms/step - accuracy: 0.8495 - loss: 0.3934 - val_accuracy: 0.8409 - val_loss: 0.3810\n",
            "Epoch 4/10\n",
            "\u001b[1m782/782\u001b[0m \u001b[32m━━━━━━━━━━━━━━━━━━━━\u001b[0m\u001b[37m\u001b[0m \u001b[1m4s\u001b[0m 5ms/step - accuracy: 0.8723 - loss: 0.3344 - val_accuracy: 0.8546 - val_loss: 0.3504\n",
            "Epoch 5/10\n",
            "\u001b[1m782/782\u001b[0m \u001b[32m━━━━━━━━━━━━━━━━━━━━\u001b[0m\u001b[37m\u001b[0m \u001b[1m5s\u001b[0m 5ms/step - accuracy: 0.8856 - loss: 0.2970 - val_accuracy: 0.8629 - val_loss: 0.3320\n",
            "Epoch 6/10\n",
            "\u001b[1m782/782\u001b[0m \u001b[32m━━━━━━━━━━━━━━━━━━━━\u001b[0m\u001b[37m\u001b[0m \u001b[1m6s\u001b[0m 6ms/step - accuracy: 0.8955 - loss: 0.2701 - val_accuracy: 0.8673 - val_loss: 0.3207\n",
            "Epoch 7/10\n",
            "\u001b[1m782/782\u001b[0m \u001b[32m━━━━━━━━━━━━━━━━━━━━\u001b[0m\u001b[37m\u001b[0m \u001b[1m4s\u001b[0m 5ms/step - accuracy: 0.9048 - loss: 0.2492 - val_accuracy: 0.8707 - val_loss: 0.3141\n",
            "Epoch 8/10\n",
            "\u001b[1m782/782\u001b[0m \u001b[32m━━━━━━━━━━━━━━━━━━━━\u001b[0m\u001b[37m\u001b[0m \u001b[1m5s\u001b[0m 7ms/step - accuracy: 0.9110 - loss: 0.2322 - val_accuracy: 0.8718 - val_loss: 0.3108\n",
            "Epoch 9/10\n",
            "\u001b[1m782/782\u001b[0m \u001b[32m━━━━━━━━━━━━━━━━━━━━\u001b[0m\u001b[37m\u001b[0m \u001b[1m9s\u001b[0m 5ms/step - accuracy: 0.9168 - loss: 0.2178 - val_accuracy: 0.8728 - val_loss: 0.3099\n",
            "Epoch 10/10\n",
            "\u001b[1m782/782\u001b[0m \u001b[32m━━━━━━━━━━━━━━━━━━━━\u001b[0m\u001b[37m\u001b[0m \u001b[1m5s\u001b[0m 7ms/step - accuracy: 0.9226 - loss: 0.2052 - val_accuracy: 0.8729 - val_loss: 0.3109\n"
          ]
        }
      ]
    },
    {
      "cell_type": "code",
      "source": [
        "# Plot training history\n",
        "history_dict = history.history\n",
        "acc = history_dict['accuracy']\n",
        "val_acc = history_dict['val_accuracy']\n",
        "loss = history_dict['loss']\n",
        "val_loss = history_dict['val_loss']\n",
        "\n",
        "epochs = range(1, len(acc) + 1)\n"
      ],
      "metadata": {
        "id": "4TodGgvkObWW"
      },
      "execution_count": null,
      "outputs": []
    },
    {
      "cell_type": "code",
      "source": [
        "plt.figure(figsize=(12, 5))\n",
        "\n",
        "plt.subplot(1, 2, 1)\n",
        "plt.plot(epochs, loss, 'bo', label='Training loss')\n",
        "plt.plot(epochs, val_loss, 'b', label='Validation loss')\n",
        "plt.title('Training and Validation Loss')\n",
        "plt.xlabel('Epochs')\n",
        "plt.ylabel('Loss')\n",
        "plt.legend()\n",
        "\n",
        "plt.subplot(1, 2, 2)\n",
        "plt.plot(epochs, acc, 'bo', label='Training accuracy')\n",
        "plt.plot(epochs, val_acc, 'b', label='Validation accuracy')\n",
        "plt.title('Training and Validation Accuracy')\n",
        "plt.xlabel('Epochs')\n",
        "plt.ylabel('Accuracy')\n",
        "plt.legend()\n",
        "\n",
        "plt.show()"
      ],
      "metadata": {
        "colab": {
          "base_uri": "https://localhost:8080/",
          "height": 420
        },
        "id": "4Ud6T9S5OccD",
        "outputId": "e256c1f5-612e-4f7a-ec02-95232cdbffdd"
      },
      "execution_count": null,
      "outputs": [
        {
          "output_type": "display_data",
          "data": {
            "text/plain": [
              "<Figure size 1200x500 with 2 Axes>"
            ],
            "image/png": "[encoded data removed]"
          },
          "metadata": {}
        }
      ]
    },
    {
      "cell_type": "code",
      "source": [
        "import numpy as np"
      ],
      "metadata": {
        "id": "KzyPef32PHYh"
      },
      "execution_count": null,
      "outputs": []
    },
    {
      "cell_type": "code",
      "source": [
        "# Define a list of example sentences to predict\n",
        "example_sentences = [\n",
        "    \"This movie was fantastic! I absolutely loved it.\",\n",
        "    \"It was okay, nothing special, just average.\",\n",
        "    \"Worst movie I've ever seen. A complete waste of time and money.\",\n",
        "    \"The plot was confusing and the acting was terrible.\",\n",
        "    \"A heartwarming story with superb performances.\"\n",
        "]"
      ],
      "metadata": {
        "id": "puovHJC3PJvU"
      },
      "execution_count": null,
      "outputs": []
    },
    {
      "cell_type": "code",
      "source": [
        "raw_predict_data = tf.data.Dataset.from_tensor_slices(example_sentences)\n",
        "vectorized_predict_data = raw_predict_data.map(vectorize_layer).batch(1)"
      ],
      "metadata": {
        "id": "RGCwcbQnPPXS"
      },
      "execution_count": null,
      "outputs": []
    },
    {
      "cell_type": "code",
      "source": [
        "# Make predictions\n",
        "print(\"Making predictions on example sentences...\")\n",
        "predictions = model.predict(vectorized_predict_data)"
      ],
      "metadata": {
        "colab": {
          "base_uri": "https://localhost:8080/"
        },
        "id": "hU0LCwKoPX73",
        "outputId": "18f4db5f-0d66-4a2a-dd1f-2ed5473b1fa1"
      },
      "execution_count": null,
      "outputs": [
        {
          "output_type": "stream",
          "name": "stdout",
          "text": [
            "Making predictions on example sentences...\n",
            "\u001b[1m5/5\u001b[0m \u001b[32m━━━━━━━━━━━━━━━━━━━━\u001b[0m\u001b[37m\u001b[0m \u001b[1m0s\u001b[0m 9ms/step \n"
          ]
        }
      ]
    },
    {
      "cell_type": "code",
      "source": [
        "# Interpret the predictions\n",
        "print(\"\\n--- Predictions ---\")\n",
        "for i, sentence in enumerate(example_sentences):\n",
        "\n",
        "    sentiment_score = predictions[i][0]\n",
        "    predicted_sentiment = \"Positive\" if sentiment_score >= 0.5 else \"Negative\"\n",
        "\n",
        "    print(f\"Review: \\\"{sentence}\\\"\")\n",
        "    print(f\"Predicted Sentiment: {predicted_sentiment} (Score: {sentiment_score:.4f})\\n\")"
      ],
      "metadata": {
        "id": "up2EgdmEPght",
        "outputId": "f96eae03-71ca-45e8-d82e-dab62683f276",
        "colab": {
          "base_uri": "https://localhost:8080/"
        }
      },
      "execution_count": null,
      "outputs": [
        {
          "output_type": "stream",
          "name": "stdout",
          "text": [
            "\n",
            "--- Predictions ---\n",
            "Review: \"This movie was fantastic! I absolutely loved it.\"\n",
            "Predicted Sentiment: Positive (Score: 0.8193)\n",
            "\n",
            "Review: \"It was okay, nothing special, just average.\"\n",
            "Predicted Sentiment: Negative (Score: 0.4010)\n",
            "\n",
            "Review: \"Worst movie I've ever seen. A complete waste of time and money.\"\n",
            "Predicted Sentiment: Negative (Score: 0.0750)\n",
            "\n",
            "Review: \"The plot was confusing and the acting was terrible.\"\n",
            "Predicted Sentiment: Negative (Score: 0.2486)\n",
            "\n",
            "Review: \"A heartwarming story with superb performances.\"\n",
            "Predicted Sentiment: Positive (Score: 0.8051)\n",
            "\n"
          ]
        }
      ]
    }
  ]
}
